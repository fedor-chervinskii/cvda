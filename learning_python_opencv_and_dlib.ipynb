{
 "cells": [
  {
   "cell_type": "markdown",
   "metadata": {},
   "source": [
    "# Изучаем Python и OpenCV"
   ]
  },
  {
   "cell_type": "markdown",
   "metadata": {},
   "source": [
    "## Python basics"
   ]
  },
  {
   "cell_type": "code",
   "execution_count": null,
   "metadata": {},
   "outputs": [],
   "source": [
    "#это комментарий\n",
    "\n",
    "a = \"это переменная\""
   ]
  },
  {
   "cell_type": "code",
   "execution_count": null,
   "metadata": {},
   "outputs": [],
   "source": [
    "print(a)"
   ]
  },
  {
   "cell_type": "code",
   "execution_count": null,
   "metadata": {
    "scrolled": true
   },
   "outputs": [],
   "source": [
    "print(b)"
   ]
  },
  {
   "cell_type": "code",
   "execution_count": null,
   "metadata": {},
   "outputs": [],
   "source": [
    "if a == 0:\n",
    "    print(\"!\")"
   ]
  },
  {
   "cell_type": "code",
   "execution_count": null,
   "metadata": {},
   "outputs": [],
   "source": [
    "b = [\"это\", \"список\", \"строк\"]\n",
    "\n",
    "#чтобы что-то распечаать в любом месте программы можно написать\n",
    "print(b) # здесь print это функция от аргумента b"
   ]
  },
  {
   "cell_type": "code",
   "execution_count": null,
   "metadata": {},
   "outputs": [],
   "source": [
    "#определим свою функцию:\n",
    "def greeting(name):\n",
    "    result = \"Привет! Я {}\".format(name) \n",
    "    return result # метод формат позволяет подставить аргумент в строку\n",
    "\n",
    "greeting(\"художник\")"
   ]
  },
  {
   "cell_type": "code",
   "execution_count": null,
   "metadata": {},
   "outputs": [],
   "source": [
    "# функция может брать на вход несколько аргументов и возвращать несколько значений\n",
    "def sum_and_mult(a, b, c=10):\n",
    "    return a + b + c, a * b * c\n",
    "\n",
    "s, m = sum_and_mult(1, 2)\n",
    "print(s, m)"
   ]
  },
  {
   "cell_type": "markdown",
   "metadata": {},
   "source": [
    "## Библиотека NumPy"
   ]
  },
  {
   "cell_type": "code",
   "execution_count": null,
   "metadata": {},
   "outputs": [],
   "source": [
    "# подключаем\n",
    "import numpy as np"
   ]
  },
  {
   "cell_type": "code",
   "execution_count": null,
   "metadata": {},
   "outputs": [],
   "source": [
    "# это список:\n",
    "a = [1, 2, 3]\n",
    "\n",
    "# а это - массив\n",
    "new_a = np.array(a)\n",
    "new_a"
   ]
  },
  {
   "cell_type": "code",
   "execution_count": null,
   "metadata": {},
   "outputs": [],
   "source": [
    "# это список из списков\n",
    "mat = [[1, 2, 3], [4, 5, 6], [7, 8, 9]]\n",
    "\n",
    "# а это уже двумерный массив\n",
    "new_mat = np.array(mat)\n",
    "new_mat"
   ]
  },
  {
   "cell_type": "markdown",
   "metadata": {},
   "source": [
    "Обращаться к элементам массива можно как и к элементам списков по индексам:"
   ]
  },
  {
   "cell_type": "code",
   "execution_count": null,
   "metadata": {},
   "outputs": [],
   "source": [
    "print(mat[1][1])"
   ]
  },
  {
   "cell_type": "markdown",
   "metadata": {},
   "source": [
    "Но!"
   ]
  },
  {
   "cell_type": "code",
   "execution_count": null,
   "metadata": {},
   "outputs": [],
   "source": [
    "print(new_mat[1, 1])"
   ]
  },
  {
   "cell_type": "markdown",
   "metadata": {},
   "source": [
    "## Библиотека OpenCV"
   ]
  },
  {
   "cell_type": "markdown",
   "metadata": {},
   "source": [
    "### Работаем с камерой\n",
    "\n",
    "Чтобы понять, доступна ли вам камера ноутбука или внешняя USB камера по стандартному интерфейсу, можно найти на компьютере файл /dev/video0"
   ]
  },
  {
   "cell_type": "markdown",
   "metadata": {},
   "source": [
    "https://docs.opencv.org/3.0-beta/doc/py_tutorials/py_gui/py_video_display/py_video_display.html"
   ]
  },
  {
   "cell_type": "code",
   "execution_count": null,
   "metadata": {},
   "outputs": [],
   "source": [
    "!ls /dev/video*"
   ]
  },
  {
   "cell_type": "code",
   "execution_count": null,
   "metadata": {},
   "outputs": [],
   "source": [
    "import matplotlib.pyplot as plt # эта библиотека для визулизации\n",
    "# хотим картинки прямо тут\n",
    "%matplotlib inline\n",
    "import cv2\n",
    "import time\n",
    "\n",
    "cap = cv2.VideoCapture(0)\n",
    "\n",
    "if cap.isOpened():\n",
    "    time.sleep(1)\n",
    "    ret, frame = cap.read()\n",
    "    frame = cv2.cvtColor(frame, cv2.COLOR_BGR2RGB)\n",
    "    plt.imshow(frame)\n",
    "else:\n",
    "    print(\"ЧТО-ТО ПОШЛО НЕ ТАК!!!\")\n",
    "\n",
    "cap.release()"
   ]
  },
  {
   "cell_type": "code",
   "execution_count": null,
   "metadata": {},
   "outputs": [],
   "source": [
    "cap = cv2.VideoCapture(0)\n",
    "\n",
    "# Define the codec and create VideoWriter object\n",
    "fourcc = cv2.VideoWriter_fourcc(*'XVID')\n",
    "out = cv2.VideoWriter('output.avi', fourcc, 20.0, (640,480))\n",
    "\n",
    "while(cap.isOpened()):\n",
    "    ret, frame = cap.read()\n",
    "    if ret==True:\n",
    "        frame = cv2.flip(frame,0)\n",
    "\n",
    "        # write the flipped frame\n",
    "        out.write(frame)\n",
    "\n",
    "        cv2.imshow('frame',frame)\n",
    "        if cv2.waitKey(1) & 0xFF == ord('q'):\n",
    "            break\n",
    "    else:\n",
    "        break\n",
    "\n",
    "# Release everything if job is finished\n",
    "cap.release()\n",
    "out.release()\n",
    "cv2.destroyAllWindows()"
   ]
  },
  {
   "cell_type": "markdown",
   "metadata": {},
   "source": [
    "## Face Detection using dlib\n",
    "\n",
    "using https://hackernoon.com/gender-and-race-change-on-your-selfie-with-neural-nets-9a9a1c9c5c16"
   ]
  },
  {
   "cell_type": "code",
   "execution_count": null,
   "metadata": {},
   "outputs": [],
   "source": [
    "!pip install dlib"
   ]
  },
  {
   "cell_type": "markdown",
   "metadata": {},
   "source": [
    "Для удобства сделаем функцию make_shot"
   ]
  },
  {
   "cell_type": "code",
   "execution_count": null,
   "metadata": {},
   "outputs": [],
   "source": [
    "def make_shot():\n",
    "    cap = cv2.VideoCapture(0)\n",
    "    if cap.isOpened():\n",
    "        time.sleep(1)\n",
    "        ret, _frame = cap.read()\n",
    "        _frame = cv2.cvtColor(_frame, cv2.COLOR_BGR2RGB)\n",
    "        plt.imshow(_frame)\n",
    "    else:\n",
    "        print(\"ЧТО-ТО ПОШЛО НЕ ТАК!!!\")\n",
    "    cap.release()\n",
    "    return _frame\n",
    "\n",
    "frame = make_shot()"
   ]
  },
  {
   "cell_type": "code",
   "execution_count": null,
   "metadata": {},
   "outputs": [],
   "source": [
    "import dlib\n",
    "\n",
    "fd_front_dlib = dlib.get_frontal_face_detector()\n",
    "faces = fd_front_dlib(frame, 1)\n",
    "print(faces)"
   ]
  },
  {
   "cell_type": "markdown",
   "metadata": {},
   "source": [
    "Детектор мог ничего и не вернуть, попробуем запустить его в сыром режиме и посмотреть на все, даже самые плохие детекты"
   ]
  },
  {
   "cell_type": "code",
   "execution_count": null,
   "metadata": {},
   "outputs": [],
   "source": [
    "dets, scores, idx = fd_front_dlib.run(frame, 1, -1)"
   ]
  },
  {
   "cell_type": "code",
   "execution_count": null,
   "metadata": {},
   "outputs": [],
   "source": [
    "print(dets, scores)"
   ]
  },
  {
   "cell_type": "markdown",
   "metadata": {},
   "source": [
    "Функция detect_single_face_dlib возвращает координаты прямоугольника описывающего лицо, попробуем его нарисовать поверх картинки. Для рисования поверх картинок в OpenCV есть много функций, описанных здесь https://docs.opencv.org/3.0-beta/modules/imgproc/doc/drawing_functions.html\n",
    "\n",
    "нарисуем какой-нибудь один"
   ]
  },
  {
   "cell_type": "code",
   "execution_count": null,
   "metadata": {},
   "outputs": [],
   "source": [
    "d = dets[0]\n",
    "\n",
    "cv2.rectangle(frame,\n",
    "              (d.left(), d.top()),\n",
    "              (d.right(), d.bottom()),\n",
    "              (255, 0, 0), thickness=5)\n",
    "plt.imshow(frame)"
   ]
  },
  {
   "cell_type": "markdown",
   "metadata": {},
   "source": [
    "Для удобства для рисования детекций заведем функцию:"
   ]
  },
  {
   "cell_type": "code",
   "execution_count": null,
   "metadata": {},
   "outputs": [],
   "source": [
    "def draw(input_img, detect):\n",
    "    img = cv2.rectangle(input_img,\n",
    "                        (detect.left(), detect.top()),\n",
    "                        (detect.right(), detect.bottom()),\n",
    "                        (255, 0, 0), thickness=5)\n",
    "    return img"
   ]
  },
  {
   "cell_type": "markdown",
   "metadata": {},
   "source": [
    "Нарисуем все детекты"
   ]
  },
  {
   "cell_type": "code",
   "execution_count": null,
   "metadata": {},
   "outputs": [],
   "source": [
    "new_img = frame.copy()\n",
    "for det in dets:\n",
    "    new_img = draw(new_img, det)\n",
    "plt.imshow(new_img)"
   ]
  },
  {
   "cell_type": "markdown",
   "metadata": {},
   "source": [
    "добавим возможность выводить уверенность детекта (используем https://docs.opencv.org/3.0-beta/modules/imgproc/doc/drawing_functions.html#puttext):"
   ]
  },
  {
   "cell_type": "code",
   "execution_count": null,
   "metadata": {},
   "outputs": [],
   "source": [
    "def draw(input_img, detect, score):\n",
    "    img = cv2.rectangle(input_img,\n",
    "                        (detect.left(), detect.top()),\n",
    "                        (detect.right(), detect.bottom()),\n",
    "                        (255, 0, 0), thickness=5)\n",
    "    cv2.putText(input_img, \"%.4f\" % score, (detect.left(), detect.top()),\n",
    "                cv2.FONT_HERSHEY_SIMPLEX, 2, 255, 5)\n",
    "    return img"
   ]
  },
  {
   "cell_type": "code",
   "execution_count": null,
   "metadata": {},
   "outputs": [],
   "source": [
    "new_img = frame\n",
    "for i in range(len(dets)):\n",
    "    new_img = draw(new_img, dets[i], scores[i])\n",
    "plt.imshow(new_img)"
   ]
  },
  {
   "cell_type": "markdown",
   "metadata": {},
   "source": [
    "В потоке:"
   ]
  },
  {
   "cell_type": "code",
   "execution_count": null,
   "metadata": {},
   "outputs": [],
   "source": [
    "cap = cv2.VideoCapture(0)\n",
    "\n",
    "# Define the codec and create VideoWriter object\n",
    "\n",
    "while(cap.isOpened()):\n",
    "    ret, frame = cap.read()\n",
    "    if ret==True:\n",
    "        frame = cv2.cvtColor(frame, cv2.COLOR_BGR2RGB) #BGR -> RGB\n",
    "\n",
    "        dets, scores, idx = fd_front_dlib.run(frame, 1, -1) # detect\n",
    "        \n",
    "        for i in range(len(dets)): # visualize\n",
    "            new_img = draw(frame, dets[i], scores[i])\n",
    "\n",
    "        frame = cv2.cvtColor(frame, cv2.COLOR_RGB2BGR) #RGB -> BGR\n",
    "        cv2.imshow('frame', frame)\n",
    "        if cv2.waitKey(1) & 0xFF == ord('q'):\n",
    "            break\n",
    "    else:\n",
    "        break\n",
    "\n",
    "# Release everything if job is finished\n",
    "cap.release()\n",
    "out.release()\n",
    "cv2.destroyAllWindows()"
   ]
  },
  {
   "cell_type": "markdown",
   "metadata": {},
   "source": [
    "# Что дальше?\n",
    "\n",
    "используя https://github.com/ageitgey/face_recognition и захват с камеры, сделать демо с распознаванием лиц одногруппников"
   ]
  },
  {
   "cell_type": "code",
   "execution_count": null,
   "metadata": {},
   "outputs": [],
   "source": []
  }
 ],
 "metadata": {
  "kernelspec": {
   "display_name": "Python 3",
   "language": "python",
   "name": "python3"
  },
  "language_info": {
   "codemirror_mode": {
    "name": "ipython",
    "version": 3
   },
   "file_extension": ".py",
   "mimetype": "text/x-python",
   "name": "python",
   "nbconvert_exporter": "python",
   "pygments_lexer": "ipython3",
   "version": "3.7.3"
  }
 },
 "nbformat": 4,
 "nbformat_minor": 2
}
