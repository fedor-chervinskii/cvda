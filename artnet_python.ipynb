{
 "cells": [
  {
   "cell_type": "markdown",
   "metadata": {},
   "source": [
    "# In this notebook we will operate an array of LEDs from Python via artnet protocol"
   ]
  },
  {
   "cell_type": "markdown",
   "metadata": {},
   "source": [
    "https://en.wikipedia.org/wiki/Art-Net"
   ]
  },
  {
   "cell_type": "code",
   "execution_count": null,
   "metadata": {},
   "outputs": [],
   "source": [
    "#here is the only function we need to pack any values we want to send to a artnet byte packet and send it\n",
    "\n",
    "import socket, struct\n",
    "\n",
    "mysocket = socket.socket(socket.AF_INET, socket.SOCK_DGRAM) \n",
    "\n",
    "def send_packet(data, sequence_counter=True, host=\"192.168.4.1\"):\n",
    "    universe_nr = 0\n",
    "    \n",
    "    sequence_counter = 255 if sequence_counter else 0\n",
    "    packet = bytearray()\n",
    "    packet.extend(map(ord, \"Art-Net\"))\n",
    "    packet.append(0x00)          # Null terminate Art-Net\n",
    "    packet.extend([0x00, 0x50])  # Opcode ArtDMX 0x5000 (Little endian)\n",
    "    packet.extend([0x00, 0x0e])  # Protocol version 14\n",
    "    \n",
    "    if sequence_counter:\n",
    "        sequence_counter += 1\n",
    "        if sequence_counter > 255:\n",
    "            sequence_counter = 1\n",
    "\n",
    "    packet.append(sequence_counter)              # Sequence,\n",
    "    packet.append(0x00)                                 # Physical\n",
    "    packet.append(universe_nr & 0xFF)                   # Universe LowByte\n",
    "    packet.append(universe_nr >> 8 & 0xFF)              # Universe HighByte\n",
    "\n",
    "    packet.extend(struct.pack('>h', len(data)))  # Pack the number of channels Big endian\n",
    "    packet.extend(data)\n",
    "    mysocket.sendto(packet, (host, 0x1936))"
   ]
  },
  {
   "cell_type": "markdown",
   "metadata": {},
   "source": [
    "## data is sequence of values 0-255 which are intensities of your lighting array. If you have 30 color LEDs, that means that you have to send maximum 30 x 3 = 90 values\n",
    "\n",
    "Now make sure you're connected to the LEDs via WiFi and let's try it:"
   ]
  },
  {
   "cell_type": "code",
   "execution_count": null,
   "metadata": {},
   "outputs": [],
   "source": [
    "values = [255, 0, 0]  # this should make the first LED to be red\n",
    "send_packet(values)"
   ]
  },
  {
   "cell_type": "markdown",
   "metadata": {},
   "source": [
    "Let's now make them all red but one by one with some sleep in time:"
   ]
  },
  {
   "cell_type": "code",
   "execution_count": null,
   "metadata": {},
   "outputs": [],
   "source": [
    "debug = False\n",
    "\n",
    "import time\n",
    "\n",
    "values = []\n",
    "for i in range(30):\n",
    "    values.extend([255, 0, 0])\n",
    "    if debug:\n",
    "        print(\"we send: {}\".format(values))\n",
    "    send_packet(values)\n",
    "    time.sleep(0.1)  # in sec"
   ]
  },
  {
   "cell_type": "code",
   "execution_count": null,
   "metadata": {},
   "outputs": [],
   "source": [
    "# send 90 zeros to switch them off\n",
    "send_packet([0] * 90)"
   ]
  },
  {
   "cell_type": "markdown",
   "metadata": {},
   "source": [
    "We can make the colors all different:"
   ]
  },
  {
   "cell_type": "code",
   "execution_count": null,
   "metadata": {},
   "outputs": [],
   "source": [
    "values = []\n",
    "for i in range(30):\n",
    "    red_value = int(255 / 30 * i)\n",
    "    values.extend([red_value, 0, 255 - red_value])\n",
    "    if debug:\n",
    "        print(\"we send: {}\".format(values))\n",
    "    send_packet(values)\n",
    "    time.sleep(0.1)  # in sec\n",
    "send_packet([0] * 90)"
   ]
  },
  {
   "cell_type": "markdown",
   "metadata": {},
   "source": [
    "We can use any desirable colormap, e.g. https://matplotlib.org/3.1.0/tutorials/colors/colormaps.html (scroll to the bottom)"
   ]
  },
  {
   "cell_type": "code",
   "execution_count": null,
   "metadata": {},
   "outputs": [],
   "source": [
    "import matplotlib.cm\n",
    "\n",
    "colormap = matplotlib.cm.get_cmap('hsv')\n",
    "\n",
    "print(colormap(0.0))\n",
    "print(colormap(1.0))\n",
    "\n",
    "def cm_to_rgb(value):\n",
    "    assert 0.0 <= value <= 1.0\n",
    "    return [int(255 * f) for f in colormap(value)[:3]]\n",
    "\n",
    "print(cm_to_rgb(0.0))\n",
    "print(cm_to_rgb(1.0))"
   ]
  },
  {
   "cell_type": "code",
   "execution_count": null,
   "metadata": {},
   "outputs": [],
   "source": [
    "values = []\n",
    "for i in range(30):\n",
    "    values.extend(cm_to_rgb(i / 30.))\n",
    "    if debug:\n",
    "        print(\"we send: {}\".format(values))\n",
    "    send_packet(values)\n",
    "    time.sleep(0.1)  # in sec\n",
    "send_packet([0] * 90)"
   ]
  },
  {
   "cell_type": "markdown",
   "metadata": {},
   "source": [
    "I want them to rotate!"
   ]
  },
  {
   "cell_type": "code",
   "execution_count": null,
   "metadata": {},
   "outputs": [],
   "source": [
    "# we take the last values\n",
    "while True:\n",
    "    values = values[-3:] + values[:-3]\n",
    "    for i in range(30):\n",
    "        if debug:\n",
    "            print(\"we send: {}\".format(values))\n",
    "        send_packet(values)\n",
    "    time.sleep(0.05)  # in sec"
   ]
  },
  {
   "cell_type": "markdown",
   "metadata": {},
   "source": [
    "Let's now make to move just one pixel"
   ]
  },
  {
   "cell_type": "code",
   "execution_count": null,
   "metadata": {},
   "outputs": [],
   "source": [
    "for i in range(30):\n",
    "    values = [0] * 90  # all zeros\n",
    "    values[i * 3] = 255  # only i-th will be red\n",
    "    if debug:\n",
    "        print(\"we send: {}\".format(values))\n",
    "    send_packet(values)\n",
    "    time.sleep(0.1)"
   ]
  },
  {
   "cell_type": "markdown",
   "metadata": {},
   "source": [
    "We can speed up by reducing sleep time and make running infinite by using while loop"
   ]
  },
  {
   "cell_type": "code",
   "execution_count": null,
   "metadata": {},
   "outputs": [],
   "source": [
    "sleep_time = 0.5\n",
    "pixel_pos = 0\n",
    "while True:\n",
    "    values = [0] * 90\n",
    "    values[pixel_pos * 3] = 255\n",
    "    if debug:\n",
    "        print(\"we send: {}\".format(values))\n",
    "    send_packet(values)\n",
    "    time.sleep(sleep_time)\n",
    "    # update values!!!\n",
    "    pixel_pos += 1\n",
    "    if pixel_pos == 30:\n",
    "        pixel_pos = 0\n",
    "    sleep_time = sleep_time * 0.99 # reduce sleep time"
   ]
  },
  {
   "cell_type": "markdown",
   "metadata": {},
   "source": [
    "# _it's your turn to create_"
   ]
  }
 ],
 "metadata": {
  "kernelspec": {
   "display_name": "Python 3",
   "language": "python",
   "name": "python3"
  },
  "language_info": {
   "codemirror_mode": {
    "name": "ipython",
    "version": 3
   },
   "file_extension": ".py",
   "mimetype": "text/x-python",
   "name": "python",
   "nbconvert_exporter": "python",
   "pygments_lexer": "ipython3",
   "version": "3.7.3"
  }
 },
 "nbformat": 4,
 "nbformat_minor": 2
}
